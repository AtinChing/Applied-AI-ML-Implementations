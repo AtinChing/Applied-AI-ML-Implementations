{
 "cells": [
  {
   "cell_type": "markdown",
   "id": "436368d8",
   "metadata": {},
   "source": [
    "Linear regression model that predicts the amount of views a YouTube video will get\n",
    "\n",
    "In the realm of AI/ML engineering, as valuable it is to be able to curate your own dataset, it is an equally important skill to be able to find (usually publically available, but essentially any that aren't created by you) datasets that provide high-quality, clean data that is large enough in amounts to ensure your model has the data it needs to be able to churn out highly-accurate outputs.\n",
    "\n",
    "For this YouTube regression model, we are going to use a publically available dataset from a popular source, Kaggle."
   ]
  },
  {
   "cell_type": "code",
   "execution_count": null,
   "id": "d94201f9",
   "metadata": {},
   "outputs": [
    {
     "ename": "",
     "evalue": "",
     "output_type": "error",
     "traceback": [
      "\u001b[1;31mRunning cells with 'Python 3.10.0' requires the ipykernel package.\n",
      "\u001b[1;31m<a href='command:jupyter.createPythonEnvAndSelectController'>Create a Python Environment</a> with the required packages."
     ]
    }
   ],
   "source": [
    "# first we need to install the kaggle package\n",
    "%pip install kaggle"
   ]
  },
  {
   "cell_type": "code",
   "execution_count": null,
   "id": "1b08f70c",
   "metadata": {},
   "outputs": [],
   "source": [
    "# then we need to set up the Kaggle API credentials\n",
    "import os\n",
    "os.environ[\"KAGGLE_USERNAME\"] = \"your_username\"\n",
    "os.environ[\"KAGGLE_KEY\"] = \"your_key\""
   ]
  },
  {
   "cell_type": "code",
   "execution_count": null,
   "id": "deeac12a",
   "metadata": {},
   "outputs": [],
   "source": [
    "# then we use the Kaggle API to download the dataset\n",
    "%kaggle datasets download -d rsrishav/youtube-trending-video-dataset\n",
    "%unzip youtube-new.zip -d data/"
   ]
  },
  {
   "cell_type": "markdown",
   "id": "5eb3f61b",
   "metadata": {},
   "source": [
    "If any of the above does not work for you, don't worry. This repository comes with all datasets downloaded with it, so you can skip the Kaggle stage in case its taking too much your time and move on to the rest of this notebook."
   ]
  }
 ],
 "metadata": {
  "kernelspec": {
   "display_name": "Python 3",
   "language": "python",
   "name": "python3"
  },
  "language_info": {
   "name": "python",
   "version": "3.10.0"
  }
 },
 "nbformat": 4,
 "nbformat_minor": 5
}
