{
 "cells": [
  {
   "cell_type": "markdown",
   "id": "436368d8",
   "metadata": {},
   "source": [
    "Linear regression model that predicts the amount of views a YouTube video will get\n",
    "\n",
    "In the realm of AI/ML engineering, as valuable it is to be able to curate your own dataset, it is an equally important skill to be able to find (usually publically available, but essentially any that aren't created by you) datasets that provide high-quality, clean data that is large enough in amounts to ensure your model has the data it needs to be able to churn out highly-accurate outputs.\n",
    "\n",
    "For this YouTube regression model, we are going to use a publically available dataset from a popular source, Kaggle."
   ]
  },
  {
   "cell_type": "code",
   "execution_count": 1,
   "id": "d94201f9",
   "metadata": {},
   "outputs": [
    {
     "name": "stdout",
     "output_type": "stream",
     "text": [
      "Collecting kaggle\n",
      "  Downloading kaggle-1.7.4.5-py3-none-any.whl (181 kB)\n",
      "Collecting protobuf\n",
      "  Downloading protobuf-6.31.1-cp310-abi3-win_amd64.whl (435 kB)\n",
      "Requirement already satisfied: tqdm in c:\\users\\atin5\\appdata\\local\\programs\\python\\python310\\lib\\site-packages (from kaggle) (4.62.3)\n",
      "Requirement already satisfied: charset-normalizer in c:\\users\\atin5\\appdata\\local\\programs\\python\\python310\\lib\\site-packages (from kaggle) (2.0.7)\n",
      "Requirement already satisfied: idna in c:\\users\\atin5\\appdata\\local\\programs\\python\\python310\\lib\\site-packages (from kaggle) (3.3)\n",
      "Collecting bleach\n",
      "  Downloading bleach-6.2.0-py3-none-any.whl (163 kB)\n",
      "Requirement already satisfied: urllib3>=1.15.1 in c:\\users\\atin5\\appdata\\local\\programs\\python\\python310\\lib\\site-packages (from kaggle) (1.26.7)\n",
      "Requirement already satisfied: requests in c:\\users\\atin5\\appdata\\local\\programs\\python\\python310\\lib\\site-packages (from kaggle) (2.26.0)\n",
      "Requirement already satisfied: six>=1.10 in c:\\users\\atin5\\appdata\\local\\programs\\python\\python310\\lib\\site-packages (from kaggle) (1.16.0)\n",
      "Collecting webencodings\n",
      "  Downloading webencodings-0.5.1-py2.py3-none-any.whl (11 kB)\n",
      "Collecting python-slugify\n",
      "  Downloading python_slugify-8.0.4-py2.py3-none-any.whl (10 kB)\n",
      "Collecting text-unidecode\n",
      "  Downloading text_unidecode-1.3-py2.py3-none-any.whl (78 kB)\n",
      "Requirement already satisfied: setuptools>=21.0.0 in c:\\users\\atin5\\appdata\\local\\programs\\python\\python310\\lib\\site-packages (from kaggle) (57.4.0)\n",
      "Requirement already satisfied: certifi>=14.05.14 in c:\\users\\atin5\\appdata\\local\\programs\\python\\python310\\lib\\site-packages (from kaggle) (2021.10.8)\n",
      "Requirement already satisfied: python-dateutil>=2.5.3 in c:\\users\\atin5\\appdata\\roaming\\python\\python310\\site-packages (from kaggle) (2.8.2)\n",
      "Requirement already satisfied: colorama in c:\\users\\atin5\\appdata\\local\\programs\\python\\python310\\lib\\site-packages (from tqdm->kaggle) (0.4.4)\n",
      "Installing collected packages: webencodings, text-unidecode, python-slugify, protobuf, bleach, kaggle\n",
      "Successfully installed bleach-6.2.0 kaggle-1.7.4.5 protobuf-6.31.1 python-slugify-8.0.4 text-unidecode-1.3 webencodings-0.5.1\n",
      "Note: you may need to restart the kernel to use updated packages.\n"
     ]
    },
    {
     "name": "stderr",
     "output_type": "stream",
     "text": [
      "WARNING: You are using pip version 21.2.3; however, version 25.1.1 is available.\n",
      "You should consider upgrading via the 'c:\\Users\\atin5\\AppData\\Local\\Programs\\Python\\Python310\\python.exe -m pip install --upgrade pip' command.\n"
     ]
    }
   ],
   "source": [
    "# first we need to install the kaggle package\n",
    "%pip install kaggle"
   ]
  },
  {
   "cell_type": "code",
   "execution_count": 5,
   "id": "1b08f70c",
   "metadata": {},
   "outputs": [],
   "source": [
    "# then we need to set up the Kaggle API credentials\n",
    "import kaggle\n",
    "import os\n",
    "os.environ[\"KAGGLE_USERNAME\"] = \"your_username\"\n",
    "os.environ[\"KAGGLE_KEY\"] = \"your_key\""
   ]
  },
  {
   "cell_type": "code",
   "execution_count": 6,
   "id": "9b577b6a",
   "metadata": {},
   "outputs": [],
   "source": [
    "os.environ[\"KAGGLE_USERNAME\"] = \"atinkumarsingh\"\n",
    "os.environ[\"KAGGLE_KEY\"] = \"e28a6fc4eb1b5f96e7a1cd388152f7cc\""
   ]
  },
  {
   "cell_type": "code",
   "execution_count": 10,
   "id": "7f3ad318",
   "metadata": {},
   "outputs": [
    {
     "name": "stdout",
     "output_type": "stream",
     "text": [
      "{\"datasetFiles\": [{\"ref\": \"\", \"datasetRef\": \"\", \"ownerRef\": \"\", \"name\": \"BR_category_id.json\", \"creationDate\": \"2024-04-15T12:27:54.909Z\", \"description\": \"\", \"fileType\": \"\", \"url\": \"\", \"totalBytes\": 10096, \"columns\": []}, {\"ref\": \"\", \"datasetRef\": \"\", \"ownerRef\": \"\", \"name\": \"BR_youtube_trending_data.csv\", \"creationDate\": \"2024-04-15T12:28:04.798Z\", \"description\": \"\", \"fileType\": \"\", \"url\": \"\", \"totalBytes\": 360199182, \"columns\": []}, {\"ref\": \"\", \"datasetRef\": \"\", \"ownerRef\": \"\", \"name\": \"CA_category_id.json\", \"creationDate\": \"2024-04-15T12:28:00.544Z\", \"description\": \"\", \"fileType\": \"\", \"url\": \"\", \"totalBytes\": 10096, \"columns\": []}, {\"ref\": \"\", \"datasetRef\": \"\", \"ownerRef\": \"\", \"name\": \"CA_youtube_trending_data.csv\", \"creationDate\": \"2024-04-15T12:28:06.451Z\", \"description\": \"\", \"fileType\": \"\", \"url\": \"\", \"totalBytes\": 412598392, \"columns\": []}, {\"ref\": \"\", \"datasetRef\": \"\", \"ownerRef\": \"\", \"name\": \"DE_category_id.json\", \"creationDate\": \"2024-04-15T12:28:01.505Z\", \"description\": \"\", \"fileType\": \"\", \"url\": \"\", \"totalBytes\": 10096, \"columns\": []}, {\"ref\": \"\", \"datasetRef\": \"\", \"ownerRef\": \"\", \"name\": \"DE_youtube_trending_data.csv\", \"creationDate\": \"2024-04-15T12:28:09.277Z\", \"description\": \"\", \"fileType\": \"\", \"url\": \"\", \"totalBytes\": 462208841, \"columns\": []}, {\"ref\": \"\", \"datasetRef\": \"\", \"ownerRef\": \"\", \"name\": \"FR_category_id.json\", \"creationDate\": \"2024-04-15T12:28:02.583Z\", \"description\": \"\", \"fileType\": \"\", \"url\": \"\", \"totalBytes\": 10096, \"columns\": []}, {\"ref\": \"\", \"datasetRef\": \"\", \"ownerRef\": \"\", \"name\": \"FR_youtube_trending_data.csv\", \"creationDate\": \"2024-04-15T12:28:06.754Z\", \"description\": \"\", \"fileType\": \"\", \"url\": \"\", \"totalBytes\": 375386851, \"columns\": []}, {\"ref\": \"\", \"datasetRef\": \"\", \"ownerRef\": \"\", \"name\": \"GB_category_id.json\", \"creationDate\": \"2024-04-15T12:28:02.639Z\", \"description\": \"\", \"fileType\": \"\", \"url\": \"\", \"totalBytes\": 10096, \"columns\": []}, {\"ref\": \"\", \"datasetRef\": \"\", \"ownerRef\": \"\", \"name\": \"GB_youtube_trending_data.csv\", \"creationDate\": \"2024-04-15T12:28:08.424Z\", \"description\": \"\", \"fileType\": \"\", \"url\": \"\", \"totalBytes\": 400885825, \"columns\": []}, {\"ref\": \"\", \"datasetRef\": \"\", \"ownerRef\": \"\", \"name\": \"IN_category_id.json\", \"creationDate\": \"2024-04-15T12:28:02.583Z\", \"description\": \"\", \"fileType\": \"\", \"url\": \"\", \"totalBytes\": 10096, \"columns\": []}, {\"ref\": \"\", \"datasetRef\": \"\", \"ownerRef\": \"\", \"name\": \"IN_youtube_trending_data.csv\", \"creationDate\": \"2024-04-15T12:28:07.826Z\", \"description\": \"\", \"fileType\": \"\", \"url\": \"\", \"totalBytes\": 421090386, \"columns\": []}, {\"ref\": \"\", \"datasetRef\": \"\", \"ownerRef\": \"\", \"name\": \"JP_category_id.json\", \"creationDate\": \"2024-04-15T12:28:02.619Z\", \"description\": \"\", \"fileType\": \"\", \"url\": \"\", \"totalBytes\": 10096, \"columns\": []}, {\"ref\": \"\", \"datasetRef\": \"\", \"ownerRef\": \"\", \"name\": \"JP_youtube_trending_data.csv\", \"creationDate\": \"2024-04-15T12:28:12.905Z\", \"description\": \"\", \"fileType\": \"\", \"url\": \"\", \"totalBytes\": 546223227, \"columns\": []}, {\"ref\": \"\", \"datasetRef\": \"\", \"ownerRef\": \"\", \"name\": \"KR_category_id.json\", \"creationDate\": \"2024-04-15T12:28:03.000Z\", \"description\": \"\", \"fileType\": \"\", \"url\": \"\", \"totalBytes\": 10096, \"columns\": []}, {\"ref\": \"\", \"datasetRef\": \"\", \"ownerRef\": \"\", \"name\": \"KR_youtube_trending_data.csv\", \"creationDate\": \"2024-04-15T12:28:06.578Z\", \"description\": \"\", \"fileType\": \"\", \"url\": \"\", \"totalBytes\": 322071962, \"columns\": []}, {\"ref\": \"\", \"datasetRef\": \"\", \"ownerRef\": \"\", \"name\": \"MX_category_id.json\", \"creationDate\": \"2024-04-15T12:28:03.083Z\", \"description\": \"\", \"fileType\": \"\", \"url\": \"\", \"totalBytes\": 10096, \"columns\": []}, {\"ref\": \"\", \"datasetRef\": \"\", \"ownerRef\": \"\", \"name\": \"MX_youtube_trending_data.csv\", \"creationDate\": \"2024-04-15T12:28:06.485Z\", \"description\": \"\", \"fileType\": \"\", \"url\": \"\", \"totalBytes\": 362622447, \"columns\": []}, {\"ref\": \"\", \"datasetRef\": \"\", \"ownerRef\": \"\", \"name\": \"RU_category_id.json\", \"creationDate\": \"2024-04-15T12:28:03.089Z\", \"description\": \"\", \"fileType\": \"\", \"url\": \"\", \"totalBytes\": 10096, \"columns\": []}, {\"ref\": \"\", \"datasetRef\": \"\", \"ownerRef\": \"\", \"name\": \"RU_youtube_trending_data.csv\", \"creationDate\": \"2024-04-15T12:28:08.297Z\", \"description\": \"\", \"fileType\": \"\", \"url\": \"\", \"totalBytes\": 480132638, \"columns\": []}], \"errorMessage\": \"\", \"nextPageToken\": \"CfDJ8OcRN0mUBbxAqsJzAftTVUpY53OnXYBcWaIrZR8h_t0DMQl69znabmVh_VA24FtGjqIbazcjm-a7tWGwAAeqeQA\"}\n"
     ]
    }
   ],
   "source": [
    "files = api.dataset_list_files('rsrishav/youtube-trending-video-dataset')\n",
    "print(files)"
   ]
  },
  {
   "cell_type": "code",
   "execution_count": 9,
   "id": "a3770347",
   "metadata": {},
   "outputs": [
    {
     "name": "stdout",
     "output_type": "stream",
     "text": [
      "Dataset URL: https://www.kaggle.com/datasets/rsrishav/youtube-trending-video-dataset\n"
     ]
    },
    {
     "ename": "HTTPError",
     "evalue": "404 Client Error: Not Found for url: https://www.kaggle.com/api/v1/datasets/download/rsrishav/youtube-trending-video-dataset?raw=false",
     "output_type": "error",
     "traceback": [
      "\u001b[1;31m---------------------------------------------------------------------------\u001b[0m",
      "\u001b[1;31mHTTPError\u001b[0m                                 Traceback (most recent call last)",
      "Cell \u001b[1;32mIn[9], line 5\u001b[0m\n\u001b[0;32m      3\u001b[0m api \u001b[38;5;241m=\u001b[39m KaggleApi()\n\u001b[0;32m      4\u001b[0m api\u001b[38;5;241m.\u001b[39mauthenticate()\n\u001b[1;32m----> 5\u001b[0m \u001b[43mapi\u001b[49m\u001b[38;5;241;43m.\u001b[39;49m\u001b[43mdataset_download_files\u001b[49m\u001b[43m(\u001b[49m\u001b[38;5;124;43m'\u001b[39;49m\u001b[38;5;124;43mrsrishav/youtube-trending-video-dataset\u001b[39;49m\u001b[38;5;124;43m'\u001b[39;49m\u001b[43m,\u001b[49m\u001b[43m \u001b[49m\u001b[43mpath\u001b[49m\u001b[38;5;241;43m=\u001b[39;49m\u001b[38;5;124;43m'\u001b[39;49m\u001b[38;5;124;43mdata/\u001b[39;49m\u001b[38;5;124;43m'\u001b[39;49m\u001b[43m,\u001b[49m\u001b[43m \u001b[49m\u001b[43munzip\u001b[49m\u001b[38;5;241;43m=\u001b[39;49m\u001b[38;5;28;43;01mTrue\u001b[39;49;00m\u001b[43m)\u001b[49m\n",
      "File \u001b[1;32mc:\\Users\\atin5\\AppData\\Local\\Programs\\Python\\Python310\\lib\\site-packages\\kaggle\\api\\kaggle_api_extended.py:1664\u001b[0m, in \u001b[0;36mKaggleApi.dataset_download_files\u001b[1;34m(self, dataset, path, force, quiet, unzip, licenses)\u001b[0m\n\u001b[0;32m   1662\u001b[0m request\u001b[38;5;241m.\u001b[39mdataset_slug \u001b[38;5;241m=\u001b[39m dataset_slug\n\u001b[0;32m   1663\u001b[0m request\u001b[38;5;241m.\u001b[39mdataset_version_number \u001b[38;5;241m=\u001b[39m dataset_version_number\n\u001b[1;32m-> 1664\u001b[0m response \u001b[38;5;241m=\u001b[39m \u001b[43mkaggle\u001b[49m\u001b[38;5;241;43m.\u001b[39;49m\u001b[43mdatasets\u001b[49m\u001b[38;5;241;43m.\u001b[39;49m\u001b[43mdataset_api_client\u001b[49m\u001b[38;5;241;43m.\u001b[39;49m\u001b[43mdownload_dataset\u001b[49m\u001b[43m(\u001b[49m\u001b[43mrequest\u001b[49m\u001b[43m)\u001b[49m\n\u001b[0;32m   1666\u001b[0m outfile \u001b[38;5;241m=\u001b[39m os\u001b[38;5;241m.\u001b[39mpath\u001b[38;5;241m.\u001b[39mjoin(effective_path, dataset_slug \u001b[38;5;241m+\u001b[39m \u001b[38;5;124m'\u001b[39m\u001b[38;5;124m.zip\u001b[39m\u001b[38;5;124m'\u001b[39m)\n\u001b[0;32m   1667\u001b[0m \u001b[38;5;28;01mif\u001b[39;00m force \u001b[38;5;129;01mor\u001b[39;00m \u001b[38;5;28mself\u001b[39m\u001b[38;5;241m.\u001b[39mdownload_needed(response, outfile, quiet):\n",
      "File \u001b[1;32mc:\\Users\\atin5\\AppData\\Local\\Programs\\Python\\Python310\\lib\\site-packages\\kagglesdk\\datasets\\services\\dataset_api_service.py:80\u001b[0m, in \u001b[0;36mDatasetApiClient.download_dataset\u001b[1;34m(self, request)\u001b[0m\n\u001b[0;32m     77\u001b[0m \u001b[38;5;28;01mif\u001b[39;00m request \u001b[38;5;129;01mis\u001b[39;00m \u001b[38;5;28;01mNone\u001b[39;00m:\n\u001b[0;32m     78\u001b[0m   request \u001b[38;5;241m=\u001b[39m ApiDownloadDatasetRequest()\n\u001b[1;32m---> 80\u001b[0m \u001b[38;5;28;01mreturn\u001b[39;00m \u001b[38;5;28;43mself\u001b[39;49m\u001b[38;5;241;43m.\u001b[39;49m\u001b[43m_client\u001b[49m\u001b[38;5;241;43m.\u001b[39;49m\u001b[43mcall\u001b[49m\u001b[43m(\u001b[49m\u001b[38;5;124;43m\"\u001b[39;49m\u001b[38;5;124;43mdatasets.DatasetApiService\u001b[39;49m\u001b[38;5;124;43m\"\u001b[39;49m\u001b[43m,\u001b[49m\u001b[43m \u001b[49m\u001b[38;5;124;43m\"\u001b[39;49m\u001b[38;5;124;43mApiDownloadDataset\u001b[39;49m\u001b[38;5;124;43m\"\u001b[39;49m\u001b[43m,\u001b[49m\u001b[43m \u001b[49m\u001b[43mrequest\u001b[49m\u001b[43m,\u001b[49m\u001b[43m \u001b[49m\u001b[43mHttpRedirect\u001b[49m\u001b[43m)\u001b[49m\n",
      "File \u001b[1;32mc:\\Users\\atin5\\AppData\\Local\\Programs\\Python\\Python310\\lib\\site-packages\\kagglesdk\\kaggle_http_client.py:126\u001b[0m, in \u001b[0;36mKaggleHttpClient.call\u001b[1;34m(self, service_name, request_name, request, response_type)\u001b[0m\n\u001b[0;32m    123\u001b[0m settings \u001b[38;5;241m=\u001b[39m \u001b[38;5;28mself\u001b[39m\u001b[38;5;241m.\u001b[39m_session\u001b[38;5;241m.\u001b[39mmerge_environment_settings(http_request\u001b[38;5;241m.\u001b[39murl, {}, \u001b[38;5;28;01mNone\u001b[39;00m, \u001b[38;5;28;01mNone\u001b[39;00m, \u001b[38;5;28;01mNone\u001b[39;00m)\n\u001b[0;32m    124\u001b[0m http_response \u001b[38;5;241m=\u001b[39m \u001b[38;5;28mself\u001b[39m\u001b[38;5;241m.\u001b[39m_session\u001b[38;5;241m.\u001b[39msend(http_request, \u001b[38;5;241m*\u001b[39m\u001b[38;5;241m*\u001b[39msettings)\n\u001b[1;32m--> 126\u001b[0m response \u001b[38;5;241m=\u001b[39m \u001b[38;5;28;43mself\u001b[39;49m\u001b[38;5;241;43m.\u001b[39;49m\u001b[43m_prepare_response\u001b[49m\u001b[43m(\u001b[49m\u001b[43mresponse_type\u001b[49m\u001b[43m,\u001b[49m\u001b[43m \u001b[49m\u001b[43mhttp_response\u001b[49m\u001b[43m)\u001b[49m\n\u001b[0;32m    127\u001b[0m \u001b[38;5;28;01mreturn\u001b[39;00m response\n",
      "File \u001b[1;32mc:\\Users\\atin5\\AppData\\Local\\Programs\\Python\\Python310\\lib\\site-packages\\kagglesdk\\kaggle_http_client.py:191\u001b[0m, in \u001b[0;36mKaggleHttpClient._prepare_response\u001b[1;34m(self, response_type, http_response)\u001b[0m\n\u001b[0;32m    189\u001b[0m \u001b[38;5;28;01mdef\u001b[39;00m \u001b[38;5;21m_prepare_response\u001b[39m(\u001b[38;5;28mself\u001b[39m, response_type, http_response):\n\u001b[0;32m    190\u001b[0m   \u001b[38;5;28mself\u001b[39m\u001b[38;5;241m.\u001b[39m_print_response(http_response)\n\u001b[1;32m--> 191\u001b[0m   \u001b[43mhttp_response\u001b[49m\u001b[38;5;241;43m.\u001b[39;49m\u001b[43mraise_for_status\u001b[49m\u001b[43m(\u001b[49m\u001b[43m)\u001b[49m\n\u001b[0;32m    192\u001b[0m   \u001b[38;5;28;01mif\u001b[39;00m \u001b[38;5;124m'\u001b[39m\u001b[38;5;124mapplication/json\u001b[39m\u001b[38;5;124m'\u001b[39m \u001b[38;5;129;01min\u001b[39;00m http_response\u001b[38;5;241m.\u001b[39mheaders[\u001b[38;5;124m'\u001b[39m\u001b[38;5;124mContent-Type\u001b[39m\u001b[38;5;124m'\u001b[39m]:\n\u001b[0;32m    193\u001b[0m     resp \u001b[38;5;241m=\u001b[39m http_response\u001b[38;5;241m.\u001b[39mjson()\n",
      "File \u001b[1;32mc:\\Users\\atin5\\AppData\\Local\\Programs\\Python\\Python310\\lib\\site-packages\\requests\\models.py:953\u001b[0m, in \u001b[0;36mResponse.raise_for_status\u001b[1;34m(self)\u001b[0m\n\u001b[0;32m    950\u001b[0m     http_error_msg \u001b[38;5;241m=\u001b[39m \u001b[38;5;124mu\u001b[39m\u001b[38;5;124m'\u001b[39m\u001b[38;5;132;01m%s\u001b[39;00m\u001b[38;5;124m Server Error: \u001b[39m\u001b[38;5;132;01m%s\u001b[39;00m\u001b[38;5;124m for url: \u001b[39m\u001b[38;5;132;01m%s\u001b[39;00m\u001b[38;5;124m'\u001b[39m \u001b[38;5;241m%\u001b[39m (\u001b[38;5;28mself\u001b[39m\u001b[38;5;241m.\u001b[39mstatus_code, reason, \u001b[38;5;28mself\u001b[39m\u001b[38;5;241m.\u001b[39murl)\n\u001b[0;32m    952\u001b[0m \u001b[38;5;28;01mif\u001b[39;00m http_error_msg:\n\u001b[1;32m--> 953\u001b[0m     \u001b[38;5;28;01mraise\u001b[39;00m HTTPError(http_error_msg, response\u001b[38;5;241m=\u001b[39m\u001b[38;5;28mself\u001b[39m)\n",
      "\u001b[1;31mHTTPError\u001b[0m: 404 Client Error: Not Found for url: https://www.kaggle.com/api/v1/datasets/download/rsrishav/youtube-trending-video-dataset?raw=false"
     ]
    }
   ],
   "source": [
    "from kaggle.api.kaggle_api_extended import KaggleApi\n",
    "# then we use the Kaggle API to download the dataset\n",
    "api = KaggleApi()\n",
    "api.authenticate()\n",
    "api.dataset_download_files('rsrishav/youtube-trending-video-dataset', path='data/', unzip=True)"
   ]
  },
  {
   "cell_type": "markdown",
   "id": "5eb3f61b",
   "metadata": {},
   "source": [
    "If any of the above does not work for you, don't worry. This repository comes with all datasets downloaded with it, so you can skip the Kaggle stage in case its taking too much your time and move on to the rest of this notebook."
   ]
  }
 ],
 "metadata": {
  "kernelspec": {
   "display_name": "Python 3",
   "language": "python",
   "name": "python3"
  },
  "language_info": {
   "codemirror_mode": {
    "name": "ipython",
    "version": 3
   },
   "file_extension": ".py",
   "mimetype": "text/x-python",
   "name": "python",
   "nbconvert_exporter": "python",
   "pygments_lexer": "ipython3",
   "version": "3.10.0"
  }
 },
 "nbformat": 4,
 "nbformat_minor": 5
}
