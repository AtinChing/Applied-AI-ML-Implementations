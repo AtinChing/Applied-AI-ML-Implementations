{
 "cells": [
  {
   "cell_type": "markdown",
   "id": "436368d8",
   "metadata": {},
   "source": [
    "Linear regression model that predicts the amount of views a YouTube video will get\n",
    "\n",
    "In the realm of AI/ML engineering, as valuable it is to be able to curate your own dataset, it is an equally important skill to be able to find (usually publically available, but essentially any that aren't created by you) datasets that provide high-quality, clean data that is large enough in amounts to ensure your model has the data it needs to be able to churn out highly-accurate outputs.\n",
    "\n",
    "For this YouTube regression model, we are going to use a publically available dataset from a popular source, Kaggle."
   ]
  },
  {
   "cell_type": "code",
   "execution_count": 1,
   "id": "d94201f9",
   "metadata": {},
   "outputs": [
    {
     "name": "stdout",
     "output_type": "stream",
     "text": [
      "Collecting kaggle\n",
      "  Downloading kaggle-1.7.4.5-py3-none-any.whl (181 kB)\n",
      "Collecting protobuf\n",
      "  Downloading protobuf-6.31.1-cp310-abi3-win_amd64.whl (435 kB)\n",
      "Requirement already satisfied: tqdm in c:\\users\\atin5\\appdata\\local\\programs\\python\\python310\\lib\\site-packages (from kaggle) (4.62.3)\n",
      "Requirement already satisfied: charset-normalizer in c:\\users\\atin5\\appdata\\local\\programs\\python\\python310\\lib\\site-packages (from kaggle) (2.0.7)\n",
      "Requirement already satisfied: idna in c:\\users\\atin5\\appdata\\local\\programs\\python\\python310\\lib\\site-packages (from kaggle) (3.3)\n",
      "Collecting bleach\n",
      "  Downloading bleach-6.2.0-py3-none-any.whl (163 kB)\n",
      "Requirement already satisfied: urllib3>=1.15.1 in c:\\users\\atin5\\appdata\\local\\programs\\python\\python310\\lib\\site-packages (from kaggle) (1.26.7)\n",
      "Requirement already satisfied: requests in c:\\users\\atin5\\appdata\\local\\programs\\python\\python310\\lib\\site-packages (from kaggle) (2.26.0)\n",
      "Requirement already satisfied: six>=1.10 in c:\\users\\atin5\\appdata\\local\\programs\\python\\python310\\lib\\site-packages (from kaggle) (1.16.0)\n",
      "Collecting webencodings\n",
      "  Downloading webencodings-0.5.1-py2.py3-none-any.whl (11 kB)\n",
      "Collecting python-slugify\n",
      "  Downloading python_slugify-8.0.4-py2.py3-none-any.whl (10 kB)\n",
      "Collecting text-unidecode\n",
      "  Downloading text_unidecode-1.3-py2.py3-none-any.whl (78 kB)\n",
      "Requirement already satisfied: setuptools>=21.0.0 in c:\\users\\atin5\\appdata\\local\\programs\\python\\python310\\lib\\site-packages (from kaggle) (57.4.0)\n",
      "Requirement already satisfied: certifi>=14.05.14 in c:\\users\\atin5\\appdata\\local\\programs\\python\\python310\\lib\\site-packages (from kaggle) (2021.10.8)\n",
      "Requirement already satisfied: python-dateutil>=2.5.3 in c:\\users\\atin5\\appdata\\roaming\\python\\python310\\site-packages (from kaggle) (2.8.2)\n",
      "Requirement already satisfied: colorama in c:\\users\\atin5\\appdata\\local\\programs\\python\\python310\\lib\\site-packages (from tqdm->kaggle) (0.4.4)\n",
      "Installing collected packages: webencodings, text-unidecode, python-slugify, protobuf, bleach, kaggle\n",
      "Successfully installed bleach-6.2.0 kaggle-1.7.4.5 protobuf-6.31.1 python-slugify-8.0.4 text-unidecode-1.3 webencodings-0.5.1\n",
      "Note: you may need to restart the kernel to use updated packages.\n"
     ]
    },
    {
     "name": "stderr",
     "output_type": "stream",
     "text": [
      "WARNING: You are using pip version 21.2.3; however, version 25.1.1 is available.\n",
      "You should consider upgrading via the 'c:\\Users\\atin5\\AppData\\Local\\Programs\\Python\\Python310\\python.exe -m pip install --upgrade pip' command.\n"
     ]
    }
   ],
   "source": [
    "# first we need to install the kaggle package\n",
    "%pip install kaggle"
   ]
  },
  {
   "cell_type": "code",
   "execution_count": 5,
   "id": "1b08f70c",
   "metadata": {},
   "outputs": [],
   "source": [
    "# then we need to set up the Kaggle API credentials\n",
    "import kaggle\n",
    "import os\n",
    "os.environ[\"KAGGLE_USERNAME\"] = \"your_username\"\n",
    "os.environ[\"KAGGLE_KEY\"] = \"your_key\""
   ]
  },
  {
   "cell_type": "code",
   "execution_count": null,
   "id": "9b577b6a",
   "metadata": {},
   "outputs": [],
   "source": [
    "os.environ[\"KAGGLE_USERNAME\"] = \"atinkumarsingh\"\n",
    "os.environ[\"KAGGLE_KEY\"] = \"e28a6fc4eb1b5f96e7a1cd388152f7cc\""
   ]
  },
  {
   "cell_type": "code",
   "execution_count": null,
   "id": "deeac12a",
   "metadata": {},
   "outputs": [
    {
     "name": "stderr",
     "output_type": "stream",
     "text": [
      "UsageError: Line magic function `%kaggle` not found.\n"
     ]
    }
   ],
   "source": [
    "# then we use the Kaggle API to download the dataset\n",
    "kaggle.api.dataset_download_files('rsrishav/youtube-trending-video-dataset', path='data/', unzip=True)\n"
   ]
  },
  {
   "cell_type": "markdown",
   "id": "5eb3f61b",
   "metadata": {},
   "source": [
    "If any of the above does not work for you, don't worry. This repository comes with all datasets downloaded with it, so you can skip the Kaggle stage in case its taking too much your time and move on to the rest of this notebook."
   ]
  }
 ],
 "metadata": {
  "kernelspec": {
   "display_name": "Python 3",
   "language": "python",
   "name": "python3"
  },
  "language_info": {
   "codemirror_mode": {
    "name": "ipython",
    "version": 3
   },
   "file_extension": ".py",
   "mimetype": "text/x-python",
   "name": "python",
   "nbconvert_exporter": "python",
   "pygments_lexer": "ipython3",
   "version": "3.10.0"
  }
 },
 "nbformat": 4,
 "nbformat_minor": 5
}
